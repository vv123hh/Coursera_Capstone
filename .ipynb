{
 "cells": [
  {
   "cell_type": "markdown",
   "metadata": {},
   "source": [
    "# Import Package"
   ]
  },
  {
   "cell_type": "code",
   "execution_count": 29,
   "metadata": {},
   "outputs": [],
   "source": [
    "import pandas as pd\n",
    "import numpy as np\n",
    "from bs4 import BeautifulSoup\n",
    "import requests\n",
    "import re\n",
    "import folium\n",
    "from sklearn.cluster import KMeans\n",
    "import matplotlib.cm as cm\n",
    "import matplotlib.colors as colors\n",
    "from geopy.geocoders import Nominatim"
   ]
  },
  {
   "cell_type": "markdown",
   "metadata": {},
   "source": [
    "# Request Data From Website, and Append Data To Different List"
   ]
  },
  {
   "cell_type": "code",
   "execution_count": 7,
   "metadata": {},
   "outputs": [],
   "source": [
    "source = requests.get('https://en.wikipedia.org/wiki/List_of_postal_codes_of_Canada:_M').text\n",
    "soup = BeautifulSoup(source, 'lxml')\n",
    "body = soup.find('tbody')\n",
    "tags = body('td')\n",
    "postal_code =list()\n",
    "borough = list()\n",
    "neigh = list()\n",
    "a = 2\n",
    "for tag in tags:\n",
    "    a = a+1\n",
    "    tag=str(tag)\n",
    "    x = re.findall('^<td>(.+)', tag)\n",
    "    if a%3 == 0:\n",
    "        postal_code.append(x)\n",
    "    elif a%3 == 1:\n",
    "        borough.append(x)\n",
    "    elif a%3 == 2:\n",
    "        neigh.append(x)"
   ]
  },
  {
   "cell_type": "markdown",
   "metadata": {},
   "source": [
    "# Convert List of List to The List Of String"
   ]
  },
  {
   "cell_type": "code",
   "execution_count": 8,
   "metadata": {},
   "outputs": [],
   "source": [
    "postal_code = [''.join(x) for x in postal_code]\n",
    "borough = [''.join(x) for x in borough]\n",
    "neigh = [''.join(x) for x in neigh]"
   ]
  },
  {
   "cell_type": "markdown",
   "metadata": {},
   "source": [
    "# Build A DataFrame"
   ]
  },
  {
   "cell_type": "code",
   "execution_count": 9,
   "metadata": {},
   "outputs": [
    {
     "data": {
      "text/html": [
       "<div>\n",
       "<style scoped>\n",
       "    .dataframe tbody tr th:only-of-type {\n",
       "        vertical-align: middle;\n",
       "    }\n",
       "\n",
       "    .dataframe tbody tr th {\n",
       "        vertical-align: top;\n",
       "    }\n",
       "\n",
       "    .dataframe thead th {\n",
       "        text-align: right;\n",
       "    }\n",
       "</style>\n",
       "<table border=\"1\" class=\"dataframe\">\n",
       "  <thead>\n",
       "    <tr style=\"text-align: right;\">\n",
       "      <th></th>\n",
       "      <th>Postal Code</th>\n",
       "      <th>Borough</th>\n",
       "      <th>Neighborhood</th>\n",
       "    </tr>\n",
       "  </thead>\n",
       "  <tbody>\n",
       "    <tr>\n",
       "      <th>0</th>\n",
       "      <td>M1A</td>\n",
       "      <td>Not assigned</td>\n",
       "      <td></td>\n",
       "    </tr>\n",
       "    <tr>\n",
       "      <th>1</th>\n",
       "      <td>M2A</td>\n",
       "      <td>Not assigned</td>\n",
       "      <td></td>\n",
       "    </tr>\n",
       "    <tr>\n",
       "      <th>2</th>\n",
       "      <td>M3A</td>\n",
       "      <td>North York</td>\n",
       "      <td>Parkwoods</td>\n",
       "    </tr>\n",
       "    <tr>\n",
       "      <th>3</th>\n",
       "      <td>M4A</td>\n",
       "      <td>North York</td>\n",
       "      <td>Victoria Village</td>\n",
       "    </tr>\n",
       "    <tr>\n",
       "      <th>4</th>\n",
       "      <td>M5A</td>\n",
       "      <td>Downtown Toronto</td>\n",
       "      <td>Regent Park, Harbourfront</td>\n",
       "    </tr>\n",
       "  </tbody>\n",
       "</table>\n",
       "</div>"
      ],
      "text/plain": [
       "  Postal Code           Borough               Neighborhood\n",
       "0         M1A      Not assigned                           \n",
       "1         M2A      Not assigned                           \n",
       "2         M3A        North York                  Parkwoods\n",
       "3         M4A        North York           Victoria Village\n",
       "4         M5A  Downtown Toronto  Regent Park, Harbourfront"
      ]
     },
     "execution_count": 9,
     "metadata": {},
     "output_type": "execute_result"
    }
   ],
   "source": [
    "df = {'Postal Code': postal_code,\n",
    "     'Borough': borough,\n",
    "     'Neighborhood': neigh}\n",
    "df = pd.DataFrame(df)\n",
    "df.head()"
   ]
  },
  {
   "cell_type": "markdown",
   "metadata": {},
   "source": [
    "# Clean Empty Data"
   ]
  },
  {
   "cell_type": "code",
   "execution_count": 10,
   "metadata": {},
   "outputs": [],
   "source": [
    "empty = df[df['Borough'] == 'Not assigned'].index\n",
    "df.drop(empty, inplace = True)"
   ]
  },
  {
   "cell_type": "code",
   "execution_count": 11,
   "metadata": {},
   "outputs": [
    {
     "data": {
      "text/html": [
       "<div>\n",
       "<style scoped>\n",
       "    .dataframe tbody tr th:only-of-type {\n",
       "        vertical-align: middle;\n",
       "    }\n",
       "\n",
       "    .dataframe tbody tr th {\n",
       "        vertical-align: top;\n",
       "    }\n",
       "\n",
       "    .dataframe thead th {\n",
       "        text-align: right;\n",
       "    }\n",
       "</style>\n",
       "<table border=\"1\" class=\"dataframe\">\n",
       "  <thead>\n",
       "    <tr style=\"text-align: right;\">\n",
       "      <th></th>\n",
       "      <th>Postal Code</th>\n",
       "      <th>Borough</th>\n",
       "      <th>Neighborhood</th>\n",
       "    </tr>\n",
       "  </thead>\n",
       "  <tbody>\n",
       "    <tr>\n",
       "      <th>0</th>\n",
       "      <td>M3A</td>\n",
       "      <td>North York</td>\n",
       "      <td>Parkwoods</td>\n",
       "    </tr>\n",
       "    <tr>\n",
       "      <th>1</th>\n",
       "      <td>M4A</td>\n",
       "      <td>North York</td>\n",
       "      <td>Victoria Village</td>\n",
       "    </tr>\n",
       "    <tr>\n",
       "      <th>2</th>\n",
       "      <td>M5A</td>\n",
       "      <td>Downtown Toronto</td>\n",
       "      <td>Regent Park, Harbourfront</td>\n",
       "    </tr>\n",
       "    <tr>\n",
       "      <th>3</th>\n",
       "      <td>M6A</td>\n",
       "      <td>North York</td>\n",
       "      <td>Lawrence Manor, Lawrence Heights</td>\n",
       "    </tr>\n",
       "    <tr>\n",
       "      <th>4</th>\n",
       "      <td>M7A</td>\n",
       "      <td>Downtown Toronto</td>\n",
       "      <td>Queen's Park, Ontario Provincial Government</td>\n",
       "    </tr>\n",
       "  </tbody>\n",
       "</table>\n",
       "</div>"
      ],
      "text/plain": [
       "  Postal Code           Borough                                 Neighborhood\n",
       "0         M3A        North York                                    Parkwoods\n",
       "1         M4A        North York                             Victoria Village\n",
       "2         M5A  Downtown Toronto                    Regent Park, Harbourfront\n",
       "3         M6A        North York             Lawrence Manor, Lawrence Heights\n",
       "4         M7A  Downtown Toronto  Queen's Park, Ontario Provincial Government"
      ]
     },
     "execution_count": 11,
     "metadata": {},
     "output_type": "execute_result"
    }
   ],
   "source": [
    "df.reset_index(inplace = True, drop =True)\n",
    "df.head()"
   ]
  },
  {
   "cell_type": "code",
   "execution_count": 12,
   "metadata": {},
   "outputs": [
    {
     "data": {
      "text/plain": [
       "(103, 3)"
      ]
     },
     "execution_count": 12,
     "metadata": {},
     "output_type": "execute_result"
    }
   ],
   "source": [
    "df.shape"
   ]
  },
  {
   "cell_type": "code",
   "execution_count": 13,
   "metadata": {},
   "outputs": [],
   "source": [
    "coord = pd.read_csv('C:\\\\Users\\\\vv123\\\\Desktop\\\\projects\\\\Coursera_Capstone\\\\Geospatial_Coordinates.csv')"
   ]
  },
  {
   "cell_type": "code",
   "execution_count": 14,
   "metadata": {},
   "outputs": [
    {
     "data": {
      "text/html": [
       "<div>\n",
       "<style scoped>\n",
       "    .dataframe tbody tr th:only-of-type {\n",
       "        vertical-align: middle;\n",
       "    }\n",
       "\n",
       "    .dataframe tbody tr th {\n",
       "        vertical-align: top;\n",
       "    }\n",
       "\n",
       "    .dataframe thead th {\n",
       "        text-align: right;\n",
       "    }\n",
       "</style>\n",
       "<table border=\"1\" class=\"dataframe\">\n",
       "  <thead>\n",
       "    <tr style=\"text-align: right;\">\n",
       "      <th></th>\n",
       "      <th>Postal Code</th>\n",
       "      <th>Latitude</th>\n",
       "      <th>Longitude</th>\n",
       "    </tr>\n",
       "  </thead>\n",
       "  <tbody>\n",
       "    <tr>\n",
       "      <th>0</th>\n",
       "      <td>M1B</td>\n",
       "      <td>43.806686</td>\n",
       "      <td>-79.194353</td>\n",
       "    </tr>\n",
       "    <tr>\n",
       "      <th>1</th>\n",
       "      <td>M1C</td>\n",
       "      <td>43.784535</td>\n",
       "      <td>-79.160497</td>\n",
       "    </tr>\n",
       "    <tr>\n",
       "      <th>2</th>\n",
       "      <td>M1E</td>\n",
       "      <td>43.763573</td>\n",
       "      <td>-79.188711</td>\n",
       "    </tr>\n",
       "    <tr>\n",
       "      <th>3</th>\n",
       "      <td>M1G</td>\n",
       "      <td>43.770992</td>\n",
       "      <td>-79.216917</td>\n",
       "    </tr>\n",
       "    <tr>\n",
       "      <th>4</th>\n",
       "      <td>M1H</td>\n",
       "      <td>43.773136</td>\n",
       "      <td>-79.239476</td>\n",
       "    </tr>\n",
       "  </tbody>\n",
       "</table>\n",
       "</div>"
      ],
      "text/plain": [
       "  Postal Code   Latitude  Longitude\n",
       "0         M1B  43.806686 -79.194353\n",
       "1         M1C  43.784535 -79.160497\n",
       "2         M1E  43.763573 -79.188711\n",
       "3         M1G  43.770992 -79.216917\n",
       "4         M1H  43.773136 -79.239476"
      ]
     },
     "execution_count": 14,
     "metadata": {},
     "output_type": "execute_result"
    }
   ],
   "source": [
    "coord.head()"
   ]
  },
  {
   "cell_type": "code",
   "execution_count": 15,
   "metadata": {},
   "outputs": [],
   "source": [
    "df = pd.merge(df, coord, on = 'Postal Code')"
   ]
  },
  {
   "cell_type": "code",
   "execution_count": 16,
   "metadata": {},
   "outputs": [
    {
     "data": {
      "text/html": [
       "<div>\n",
       "<style scoped>\n",
       "    .dataframe tbody tr th:only-of-type {\n",
       "        vertical-align: middle;\n",
       "    }\n",
       "\n",
       "    .dataframe tbody tr th {\n",
       "        vertical-align: top;\n",
       "    }\n",
       "\n",
       "    .dataframe thead th {\n",
       "        text-align: right;\n",
       "    }\n",
       "</style>\n",
       "<table border=\"1\" class=\"dataframe\">\n",
       "  <thead>\n",
       "    <tr style=\"text-align: right;\">\n",
       "      <th></th>\n",
       "      <th>Postal Code</th>\n",
       "      <th>Borough</th>\n",
       "      <th>Neighborhood</th>\n",
       "      <th>Latitude</th>\n",
       "      <th>Longitude</th>\n",
       "    </tr>\n",
       "  </thead>\n",
       "  <tbody>\n",
       "    <tr>\n",
       "      <th>0</th>\n",
       "      <td>M3A</td>\n",
       "      <td>North York</td>\n",
       "      <td>Parkwoods</td>\n",
       "      <td>43.753259</td>\n",
       "      <td>-79.329656</td>\n",
       "    </tr>\n",
       "    <tr>\n",
       "      <th>1</th>\n",
       "      <td>M4A</td>\n",
       "      <td>North York</td>\n",
       "      <td>Victoria Village</td>\n",
       "      <td>43.725882</td>\n",
       "      <td>-79.315572</td>\n",
       "    </tr>\n",
       "    <tr>\n",
       "      <th>2</th>\n",
       "      <td>M5A</td>\n",
       "      <td>Downtown Toronto</td>\n",
       "      <td>Regent Park, Harbourfront</td>\n",
       "      <td>43.654260</td>\n",
       "      <td>-79.360636</td>\n",
       "    </tr>\n",
       "    <tr>\n",
       "      <th>3</th>\n",
       "      <td>M6A</td>\n",
       "      <td>North York</td>\n",
       "      <td>Lawrence Manor, Lawrence Heights</td>\n",
       "      <td>43.718518</td>\n",
       "      <td>-79.464763</td>\n",
       "    </tr>\n",
       "    <tr>\n",
       "      <th>4</th>\n",
       "      <td>M7A</td>\n",
       "      <td>Downtown Toronto</td>\n",
       "      <td>Queen's Park, Ontario Provincial Government</td>\n",
       "      <td>43.662301</td>\n",
       "      <td>-79.389494</td>\n",
       "    </tr>\n",
       "  </tbody>\n",
       "</table>\n",
       "</div>"
      ],
      "text/plain": [
       "  Postal Code           Borough                                 Neighborhood  \\\n",
       "0         M3A        North York                                    Parkwoods   \n",
       "1         M4A        North York                             Victoria Village   \n",
       "2         M5A  Downtown Toronto                    Regent Park, Harbourfront   \n",
       "3         M6A        North York             Lawrence Manor, Lawrence Heights   \n",
       "4         M7A  Downtown Toronto  Queen's Park, Ontario Provincial Government   \n",
       "\n",
       "    Latitude  Longitude  \n",
       "0  43.753259 -79.329656  \n",
       "1  43.725882 -79.315572  \n",
       "2  43.654260 -79.360636  \n",
       "3  43.718518 -79.464763  \n",
       "4  43.662301 -79.389494  "
      ]
     },
     "execution_count": 16,
     "metadata": {},
     "output_type": "execute_result"
    }
   ],
   "source": [
    "df.head()"
   ]
  },
  {
   "cell_type": "code",
   "execution_count": 17,
   "metadata": {},
   "outputs": [],
   "source": [
    "downtownt_df = df[df['Borough']=='Downtown Toronto'].reset_index(drop = True)"
   ]
  },
  {
   "cell_type": "code",
   "execution_count": 18,
   "metadata": {},
   "outputs": [],
   "source": [
    "centralt_df = df[df['Borough']=='Central Toronto'].reset_index(drop = True)"
   ]
  },
  {
   "cell_type": "code",
   "execution_count": 19,
   "metadata": {},
   "outputs": [],
   "source": [
    "eastt_df = df[df['Borough']=='East Toronto'].reset_index(drop = True)"
   ]
  },
  {
   "cell_type": "code",
   "execution_count": 20,
   "metadata": {},
   "outputs": [],
   "source": [
    "westt_df = df[df['Borough']=='West Toronto'].reset_index(drop = True)"
   ]
  },
  {
   "cell_type": "code",
   "execution_count": 26,
   "metadata": {},
   "outputs": [],
   "source": [
    "Toronto_dataframe = westt_df.append(eastt_df).append(centralt_df).append(downtownt_df).reset_index(drop = True)"
   ]
  },
  {
   "cell_type": "code",
   "execution_count": 33,
   "metadata": {},
   "outputs": [
    {
     "data": {
      "text/html": [
       "<div>\n",
       "<style scoped>\n",
       "    .dataframe tbody tr th:only-of-type {\n",
       "        vertical-align: middle;\n",
       "    }\n",
       "\n",
       "    .dataframe tbody tr th {\n",
       "        vertical-align: top;\n",
       "    }\n",
       "\n",
       "    .dataframe thead th {\n",
       "        text-align: right;\n",
       "    }\n",
       "</style>\n",
       "<table border=\"1\" class=\"dataframe\">\n",
       "  <thead>\n",
       "    <tr style=\"text-align: right;\">\n",
       "      <th></th>\n",
       "      <th>Postal Code</th>\n",
       "      <th>Borough</th>\n",
       "      <th>Neighborhood</th>\n",
       "      <th>Latitude</th>\n",
       "      <th>Longitude</th>\n",
       "    </tr>\n",
       "  </thead>\n",
       "  <tbody>\n",
       "    <tr>\n",
       "      <th>0</th>\n",
       "      <td>M6H</td>\n",
       "      <td>West Toronto</td>\n",
       "      <td>Dufferin, Dovercourt Village</td>\n",
       "      <td>43.669005</td>\n",
       "      <td>-79.442259</td>\n",
       "    </tr>\n",
       "    <tr>\n",
       "      <th>1</th>\n",
       "      <td>M6J</td>\n",
       "      <td>West Toronto</td>\n",
       "      <td>Little Portugal, Trinity</td>\n",
       "      <td>43.647927</td>\n",
       "      <td>-79.419750</td>\n",
       "    </tr>\n",
       "    <tr>\n",
       "      <th>2</th>\n",
       "      <td>M6K</td>\n",
       "      <td>West Toronto</td>\n",
       "      <td>Brockton, Parkdale Village, Exhibition Place</td>\n",
       "      <td>43.636847</td>\n",
       "      <td>-79.428191</td>\n",
       "    </tr>\n",
       "    <tr>\n",
       "      <th>3</th>\n",
       "      <td>M6P</td>\n",
       "      <td>West Toronto</td>\n",
       "      <td>High Park, The Junction South</td>\n",
       "      <td>43.661608</td>\n",
       "      <td>-79.464763</td>\n",
       "    </tr>\n",
       "    <tr>\n",
       "      <th>4</th>\n",
       "      <td>M6R</td>\n",
       "      <td>West Toronto</td>\n",
       "      <td>Parkdale, Roncesvalles</td>\n",
       "      <td>43.648960</td>\n",
       "      <td>-79.456325</td>\n",
       "    </tr>\n",
       "  </tbody>\n",
       "</table>\n",
       "</div>"
      ],
      "text/plain": [
       "  Postal Code       Borough                                  Neighborhood  \\\n",
       "0         M6H  West Toronto                  Dufferin, Dovercourt Village   \n",
       "1         M6J  West Toronto                      Little Portugal, Trinity   \n",
       "2         M6K  West Toronto  Brockton, Parkdale Village, Exhibition Place   \n",
       "3         M6P  West Toronto                 High Park, The Junction South   \n",
       "4         M6R  West Toronto                        Parkdale, Roncesvalles   \n",
       "\n",
       "    Latitude  Longitude  \n",
       "0  43.669005 -79.442259  \n",
       "1  43.647927 -79.419750  \n",
       "2  43.636847 -79.428191  \n",
       "3  43.661608 -79.464763  \n",
       "4  43.648960 -79.456325  "
      ]
     },
     "execution_count": 33,
     "metadata": {},
     "output_type": "execute_result"
    }
   ],
   "source": [
    "Toronto_dataframe.head()"
   ]
  },
  {
   "cell_type": "code",
   "execution_count": 32,
   "metadata": {},
   "outputs": [
    {
     "name": "stdout",
     "output_type": "stream",
     "text": [
      "The geograpical coordinate of Toronto are 43.6534817, -79.3839347.\n"
     ]
    }
   ],
   "source": [
    "address = 'Toronto'\n",
    "\n",
    "geolocator = Nominatim(user_agent=\"Toronto_explorer\")\n",
    "location = geolocator.geocode(address)\n",
    "latitude = location.latitude\n",
    "longitude = location.longitude\n",
    "print('The geograpical coordinate of Toronto are {}, {}.'.format(latitude, longitude))"
   ]
  },
  {
   "cell_type": "code",
   "execution_count": 34,
   "metadata": {},
   "outputs": [
    {
     "data": {
      "text/html": [
       "<div style=\"width:100%;\"><div style=\"position:relative;width:100%;height:0;padding-bottom:60%;\"><iframe src=\"about:blank\" style=\"position:absolute;width:100%;height:100%;left:0;top:0;border:none !important;\" data-html=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 onload=\"this.contentDocument.open();this.contentDocument.write(atob(this.getAttribute('data-html')));this.contentDocument.close();\" allowfullscreen webkitallowfullscreen mozallowfullscreen></iframe></div></div>"
      ],
      "text/plain": [
       "<folium.folium.Map at 0x24fe8fc4748>"
      ]
     },
     "execution_count": 34,
     "metadata": {},
     "output_type": "execute_result"
    }
   ],
   "source": [
    "map_Toronto = folium.Map(location=[latitude, longitude], zoom_start=10)\n",
    "\n",
    "# add markers to map\n",
    "for lat, lng, borough, neighborhood in zip(Toronto_dataframe['Latitude'], Toronto_dataframe['Longitude'], Toronto_dataframe['Borough'], Toronto_dataframe['Neighborhood']):\n",
    "    label = '{}, {}'.format(neighborhood, borough)\n",
    "    label = folium.Popup(label, parse_html=True)\n",
    "    folium.CircleMarker(\n",
    "        [lat, lng],\n",
    "        radius=5,\n",
    "        popup=label,\n",
    "        color='blue',\n",
    "        fill=True,\n",
    "        fill_color='#3186cc',\n",
    "        fill_opacity=0.7,\n",
    "        parse_html=False).add_to(map_Toronto)  \n",
    "    \n",
    "map_Toronto"
   ]
  },
  {
   "cell_type": "code",
   "execution_count": null,
   "metadata": {},
   "outputs": [],
   "source": []
  }
 ],
 "metadata": {
  "kernelspec": {
   "display_name": "Python 3",
   "language": "python",
   "name": "python3"
  },
  "language_info": {
   "codemirror_mode": {
    "name": "ipython",
    "version": 3
   },
   "file_extension": ".py",
   "mimetype": "text/x-python",
   "name": "python",
   "nbconvert_exporter": "python",
   "pygments_lexer": "ipython3",
   "version": "3.7.0"
  }
 },
 "nbformat": 4,
 "nbformat_minor": 4
}
