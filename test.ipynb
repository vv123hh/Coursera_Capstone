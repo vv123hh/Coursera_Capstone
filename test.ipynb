{
 "cells": [
  {
   "cell_type": "markdown",
   "metadata": {},
   "source": [
    "# Import Package"
   ]
  },
  {
   "cell_type": "code",
   "execution_count": 37,
   "metadata": {},
   "outputs": [],
   "source": [
    "import pandas as pd\n",
    "import numpy as np\n",
    "from bs4 import BeautifulSoup\n",
    "import requests\n",
    "import re\n",
    "import folium\n",
    "from sklearn.cluster import KMeans\n",
    "import matplotlib.cm as cm\n",
    "import matplotlib.colors as colors\n",
    "from geopy.geocoders import Nominatim"
   ]
  },
  {
   "cell_type": "markdown",
   "metadata": {},
   "source": [
    "# Request Data From Website, and Append Data To Different List"
   ]
  },
  {
   "cell_type": "code",
   "execution_count": 38,
   "metadata": {},
   "outputs": [],
   "source": [
    "source = requests.get('https://en.wikipedia.org/wiki/List_of_postal_codes_of_Canada:_M').text\n",
    "soup = BeautifulSoup(source, 'lxml')\n",
    "body = soup.find('tbody')\n",
    "tags = body('td')\n",
    "postal_code =list()\n",
    "borough = list()\n",
    "neigh = list()\n",
    "a = 2\n",
    "for tag in tags:\n",
    "    a = a+1\n",
    "    tag=str(tag)\n",
    "    x = re.findall('^<td>(.+)', tag)\n",
    "    if a%3 == 0:\n",
    "        postal_code.append(x)\n",
    "    elif a%3 == 1:\n",
    "        borough.append(x)\n",
    "    elif a%3 == 2:\n",
    "        neigh.append(x)"
   ]
  },
  {
   "cell_type": "markdown",
   "metadata": {},
   "source": [
    "# Convert List of List to The List Of String"
   ]
  },
  {
   "cell_type": "code",
   "execution_count": 39,
   "metadata": {},
   "outputs": [],
   "source": [
    "postal_code = [''.join(x) for x in postal_code]\n",
    "borough = [''.join(x) for x in borough]\n",
    "neigh = [''.join(x) for x in neigh]"
   ]
  },
  {
   "cell_type": "markdown",
   "metadata": {},
   "source": [
    "# Build A DataFrame"
   ]
  },
  {
   "cell_type": "code",
   "execution_count": 40,
   "metadata": {},
   "outputs": [
    {
     "data": {
      "text/html": [
       "<div>\n",
       "<style scoped>\n",
       "    .dataframe tbody tr th:only-of-type {\n",
       "        vertical-align: middle;\n",
       "    }\n",
       "\n",
       "    .dataframe tbody tr th {\n",
       "        vertical-align: top;\n",
       "    }\n",
       "\n",
       "    .dataframe thead th {\n",
       "        text-align: right;\n",
       "    }\n",
       "</style>\n",
       "<table border=\"1\" class=\"dataframe\">\n",
       "  <thead>\n",
       "    <tr style=\"text-align: right;\">\n",
       "      <th></th>\n",
       "      <th>Postal Code</th>\n",
       "      <th>Borough</th>\n",
       "      <th>Neighborhood</th>\n",
       "    </tr>\n",
       "  </thead>\n",
       "  <tbody>\n",
       "    <tr>\n",
       "      <th>0</th>\n",
       "      <td>M1A</td>\n",
       "      <td>Not assigned</td>\n",
       "      <td></td>\n",
       "    </tr>\n",
       "    <tr>\n",
       "      <th>1</th>\n",
       "      <td>M2A</td>\n",
       "      <td>Not assigned</td>\n",
       "      <td></td>\n",
       "    </tr>\n",
       "    <tr>\n",
       "      <th>2</th>\n",
       "      <td>M3A</td>\n",
       "      <td>North York</td>\n",
       "      <td>Parkwoods</td>\n",
       "    </tr>\n",
       "    <tr>\n",
       "      <th>3</th>\n",
       "      <td>M4A</td>\n",
       "      <td>North York</td>\n",
       "      <td>Victoria Village</td>\n",
       "    </tr>\n",
       "    <tr>\n",
       "      <th>4</th>\n",
       "      <td>M5A</td>\n",
       "      <td>Downtown Toronto</td>\n",
       "      <td>Regent Park, Harbourfront</td>\n",
       "    </tr>\n",
       "  </tbody>\n",
       "</table>\n",
       "</div>"
      ],
      "text/plain": [
       "  Postal Code           Borough               Neighborhood\n",
       "0         M1A      Not assigned                           \n",
       "1         M2A      Not assigned                           \n",
       "2         M3A        North York                  Parkwoods\n",
       "3         M4A        North York           Victoria Village\n",
       "4         M5A  Downtown Toronto  Regent Park, Harbourfront"
      ]
     },
     "execution_count": 40,
     "metadata": {},
     "output_type": "execute_result"
    }
   ],
   "source": [
    "df = {'Postal Code': postal_code,\n",
    "     'Borough': borough,\n",
    "     'Neighborhood': neigh}\n",
    "df = pd.DataFrame(df)\n",
    "df.head()"
   ]
  },
  {
   "cell_type": "markdown",
   "metadata": {},
   "source": [
    "# Clean Empty Data"
   ]
  },
  {
   "cell_type": "code",
   "execution_count": 41,
   "metadata": {},
   "outputs": [],
   "source": [
    "empty = df[df['Borough'] == 'Not assigned'].index\n",
    "df.drop(empty, inplace = True)"
   ]
  },
  {
   "cell_type": "code",
   "execution_count": 42,
   "metadata": {},
   "outputs": [
    {
     "data": {
      "text/html": [
       "<div>\n",
       "<style scoped>\n",
       "    .dataframe tbody tr th:only-of-type {\n",
       "        vertical-align: middle;\n",
       "    }\n",
       "\n",
       "    .dataframe tbody tr th {\n",
       "        vertical-align: top;\n",
       "    }\n",
       "\n",
       "    .dataframe thead th {\n",
       "        text-align: right;\n",
       "    }\n",
       "</style>\n",
       "<table border=\"1\" class=\"dataframe\">\n",
       "  <thead>\n",
       "    <tr style=\"text-align: right;\">\n",
       "      <th></th>\n",
       "      <th>Postal Code</th>\n",
       "      <th>Borough</th>\n",
       "      <th>Neighborhood</th>\n",
       "    </tr>\n",
       "  </thead>\n",
       "  <tbody>\n",
       "    <tr>\n",
       "      <th>0</th>\n",
       "      <td>M3A</td>\n",
       "      <td>North York</td>\n",
       "      <td>Parkwoods</td>\n",
       "    </tr>\n",
       "    <tr>\n",
       "      <th>1</th>\n",
       "      <td>M4A</td>\n",
       "      <td>North York</td>\n",
       "      <td>Victoria Village</td>\n",
       "    </tr>\n",
       "    <tr>\n",
       "      <th>2</th>\n",
       "      <td>M5A</td>\n",
       "      <td>Downtown Toronto</td>\n",
       "      <td>Regent Park, Harbourfront</td>\n",
       "    </tr>\n",
       "    <tr>\n",
       "      <th>3</th>\n",
       "      <td>M6A</td>\n",
       "      <td>North York</td>\n",
       "      <td>Lawrence Manor, Lawrence Heights</td>\n",
       "    </tr>\n",
       "    <tr>\n",
       "      <th>4</th>\n",
       "      <td>M7A</td>\n",
       "      <td>Downtown Toronto</td>\n",
       "      <td>Queen's Park, Ontario Provincial Government</td>\n",
       "    </tr>\n",
       "  </tbody>\n",
       "</table>\n",
       "</div>"
      ],
      "text/plain": [
       "  Postal Code           Borough                                 Neighborhood\n",
       "0         M3A        North York                                    Parkwoods\n",
       "1         M4A        North York                             Victoria Village\n",
       "2         M5A  Downtown Toronto                    Regent Park, Harbourfront\n",
       "3         M6A        North York             Lawrence Manor, Lawrence Heights\n",
       "4         M7A  Downtown Toronto  Queen's Park, Ontario Provincial Government"
      ]
     },
     "execution_count": 42,
     "metadata": {},
     "output_type": "execute_result"
    }
   ],
   "source": [
    "df.reset_index(inplace = True, drop =True)\n",
    "df.head()"
   ]
  },
  {
   "cell_type": "code",
   "execution_count": 43,
   "metadata": {},
   "outputs": [
    {
     "data": {
      "text/plain": [
       "(103, 3)"
      ]
     },
     "execution_count": 43,
     "metadata": {},
     "output_type": "execute_result"
    }
   ],
   "source": [
    "df.shape"
   ]
  },
  {
   "cell_type": "code",
   "execution_count": 44,
   "metadata": {},
   "outputs": [],
   "source": [
    "coord = pd.read_csv('C:\\\\Users\\\\vv123\\\\Desktop\\\\projects\\\\Coursera_Capstone\\\\Geospatial_Coordinates.csv')"
   ]
  },
  {
   "cell_type": "code",
   "execution_count": 45,
   "metadata": {},
   "outputs": [
    {
     "data": {
      "text/html": [
       "<div>\n",
       "<style scoped>\n",
       "    .dataframe tbody tr th:only-of-type {\n",
       "        vertical-align: middle;\n",
       "    }\n",
       "\n",
       "    .dataframe tbody tr th {\n",
       "        vertical-align: top;\n",
       "    }\n",
       "\n",
       "    .dataframe thead th {\n",
       "        text-align: right;\n",
       "    }\n",
       "</style>\n",
       "<table border=\"1\" class=\"dataframe\">\n",
       "  <thead>\n",
       "    <tr style=\"text-align: right;\">\n",
       "      <th></th>\n",
       "      <th>Postal Code</th>\n",
       "      <th>Latitude</th>\n",
       "      <th>Longitude</th>\n",
       "    </tr>\n",
       "  </thead>\n",
       "  <tbody>\n",
       "    <tr>\n",
       "      <th>0</th>\n",
       "      <td>M1B</td>\n",
       "      <td>43.806686</td>\n",
       "      <td>-79.194353</td>\n",
       "    </tr>\n",
       "    <tr>\n",
       "      <th>1</th>\n",
       "      <td>M1C</td>\n",
       "      <td>43.784535</td>\n",
       "      <td>-79.160497</td>\n",
       "    </tr>\n",
       "    <tr>\n",
       "      <th>2</th>\n",
       "      <td>M1E</td>\n",
       "      <td>43.763573</td>\n",
       "      <td>-79.188711</td>\n",
       "    </tr>\n",
       "    <tr>\n",
       "      <th>3</th>\n",
       "      <td>M1G</td>\n",
       "      <td>43.770992</td>\n",
       "      <td>-79.216917</td>\n",
       "    </tr>\n",
       "    <tr>\n",
       "      <th>4</th>\n",
       "      <td>M1H</td>\n",
       "      <td>43.773136</td>\n",
       "      <td>-79.239476</td>\n",
       "    </tr>\n",
       "  </tbody>\n",
       "</table>\n",
       "</div>"
      ],
      "text/plain": [
       "  Postal Code   Latitude  Longitude\n",
       "0         M1B  43.806686 -79.194353\n",
       "1         M1C  43.784535 -79.160497\n",
       "2         M1E  43.763573 -79.188711\n",
       "3         M1G  43.770992 -79.216917\n",
       "4         M1H  43.773136 -79.239476"
      ]
     },
     "execution_count": 45,
     "metadata": {},
     "output_type": "execute_result"
    }
   ],
   "source": [
    "coord.head()"
   ]
  },
  {
   "cell_type": "code",
   "execution_count": 46,
   "metadata": {},
   "outputs": [],
   "source": [
    "df = pd.merge(df, coord, on = 'Postal Code')"
   ]
  },
  {
   "cell_type": "code",
   "execution_count": 47,
   "metadata": {},
   "outputs": [
    {
     "data": {
      "text/html": [
       "<div>\n",
       "<style scoped>\n",
       "    .dataframe tbody tr th:only-of-type {\n",
       "        vertical-align: middle;\n",
       "    }\n",
       "\n",
       "    .dataframe tbody tr th {\n",
       "        vertical-align: top;\n",
       "    }\n",
       "\n",
       "    .dataframe thead th {\n",
       "        text-align: right;\n",
       "    }\n",
       "</style>\n",
       "<table border=\"1\" class=\"dataframe\">\n",
       "  <thead>\n",
       "    <tr style=\"text-align: right;\">\n",
       "      <th></th>\n",
       "      <th>Postal Code</th>\n",
       "      <th>Borough</th>\n",
       "      <th>Neighborhood</th>\n",
       "      <th>Latitude</th>\n",
       "      <th>Longitude</th>\n",
       "    </tr>\n",
       "  </thead>\n",
       "  <tbody>\n",
       "    <tr>\n",
       "      <th>0</th>\n",
       "      <td>M3A</td>\n",
       "      <td>North York</td>\n",
       "      <td>Parkwoods</td>\n",
       "      <td>43.753259</td>\n",
       "      <td>-79.329656</td>\n",
       "    </tr>\n",
       "    <tr>\n",
       "      <th>1</th>\n",
       "      <td>M4A</td>\n",
       "      <td>North York</td>\n",
       "      <td>Victoria Village</td>\n",
       "      <td>43.725882</td>\n",
       "      <td>-79.315572</td>\n",
       "    </tr>\n",
       "    <tr>\n",
       "      <th>2</th>\n",
       "      <td>M5A</td>\n",
       "      <td>Downtown Toronto</td>\n",
       "      <td>Regent Park, Harbourfront</td>\n",
       "      <td>43.654260</td>\n",
       "      <td>-79.360636</td>\n",
       "    </tr>\n",
       "    <tr>\n",
       "      <th>3</th>\n",
       "      <td>M6A</td>\n",
       "      <td>North York</td>\n",
       "      <td>Lawrence Manor, Lawrence Heights</td>\n",
       "      <td>43.718518</td>\n",
       "      <td>-79.464763</td>\n",
       "    </tr>\n",
       "    <tr>\n",
       "      <th>4</th>\n",
       "      <td>M7A</td>\n",
       "      <td>Downtown Toronto</td>\n",
       "      <td>Queen's Park, Ontario Provincial Government</td>\n",
       "      <td>43.662301</td>\n",
       "      <td>-79.389494</td>\n",
       "    </tr>\n",
       "  </tbody>\n",
       "</table>\n",
       "</div>"
      ],
      "text/plain": [
       "  Postal Code           Borough                                 Neighborhood  \\\n",
       "0         M3A        North York                                    Parkwoods   \n",
       "1         M4A        North York                             Victoria Village   \n",
       "2         M5A  Downtown Toronto                    Regent Park, Harbourfront   \n",
       "3         M6A        North York             Lawrence Manor, Lawrence Heights   \n",
       "4         M7A  Downtown Toronto  Queen's Park, Ontario Provincial Government   \n",
       "\n",
       "    Latitude  Longitude  \n",
       "0  43.753259 -79.329656  \n",
       "1  43.725882 -79.315572  \n",
       "2  43.654260 -79.360636  \n",
       "3  43.718518 -79.464763  \n",
       "4  43.662301 -79.389494  "
      ]
     },
     "execution_count": 47,
     "metadata": {},
     "output_type": "execute_result"
    }
   ],
   "source": [
    "df.head()"
   ]
  },
  {
   "cell_type": "code",
   "execution_count": 48,
   "metadata": {},
   "outputs": [],
   "source": [
    "downtownt_df = df[df['Borough']=='Downtown Toronto'].reset_index(drop = True)"
   ]
  },
  {
   "cell_type": "code",
   "execution_count": 49,
   "metadata": {},
   "outputs": [],
   "source": [
    "centralt_df = df[df['Borough']=='Central Toronto'].reset_index(drop = True)"
   ]
  },
  {
   "cell_type": "code",
   "execution_count": 50,
   "metadata": {},
   "outputs": [],
   "source": [
    "eastt_df = df[df['Borough']=='East Toronto'].reset_index(drop = True)"
   ]
  },
  {
   "cell_type": "code",
   "execution_count": 51,
   "metadata": {},
   "outputs": [],
   "source": [
    "westt_df = df[df['Borough']=='West Toronto'].reset_index(drop = True)"
   ]
  },
  {
   "cell_type": "code",
   "execution_count": 52,
   "metadata": {},
   "outputs": [],
   "source": [
    "Toronto_dataframe = westt_df.append(eastt_df).append(centralt_df).append(downtownt_df).reset_index(drop = True)"
   ]
  },
  {
   "cell_type": "code",
   "execution_count": 53,
   "metadata": {},
   "outputs": [
    {
     "data": {
      "text/html": [
       "<div>\n",
       "<style scoped>\n",
       "    .dataframe tbody tr th:only-of-type {\n",
       "        vertical-align: middle;\n",
       "    }\n",
       "\n",
       "    .dataframe tbody tr th {\n",
       "        vertical-align: top;\n",
       "    }\n",
       "\n",
       "    .dataframe thead th {\n",
       "        text-align: right;\n",
       "    }\n",
       "</style>\n",
       "<table border=\"1\" class=\"dataframe\">\n",
       "  <thead>\n",
       "    <tr style=\"text-align: right;\">\n",
       "      <th></th>\n",
       "      <th>Postal Code</th>\n",
       "      <th>Borough</th>\n",
       "      <th>Neighborhood</th>\n",
       "      <th>Latitude</th>\n",
       "      <th>Longitude</th>\n",
       "    </tr>\n",
       "  </thead>\n",
       "  <tbody>\n",
       "    <tr>\n",
       "      <th>0</th>\n",
       "      <td>M6H</td>\n",
       "      <td>West Toronto</td>\n",
       "      <td>Dufferin, Dovercourt Village</td>\n",
       "      <td>43.669005</td>\n",
       "      <td>-79.442259</td>\n",
       "    </tr>\n",
       "    <tr>\n",
       "      <th>1</th>\n",
       "      <td>M6J</td>\n",
       "      <td>West Toronto</td>\n",
       "      <td>Little Portugal, Trinity</td>\n",
       "      <td>43.647927</td>\n",
       "      <td>-79.419750</td>\n",
       "    </tr>\n",
       "    <tr>\n",
       "      <th>2</th>\n",
       "      <td>M6K</td>\n",
       "      <td>West Toronto</td>\n",
       "      <td>Brockton, Parkdale Village, Exhibition Place</td>\n",
       "      <td>43.636847</td>\n",
       "      <td>-79.428191</td>\n",
       "    </tr>\n",
       "    <tr>\n",
       "      <th>3</th>\n",
       "      <td>M6P</td>\n",
       "      <td>West Toronto</td>\n",
       "      <td>High Park, The Junction South</td>\n",
       "      <td>43.661608</td>\n",
       "      <td>-79.464763</td>\n",
       "    </tr>\n",
       "    <tr>\n",
       "      <th>4</th>\n",
       "      <td>M6R</td>\n",
       "      <td>West Toronto</td>\n",
       "      <td>Parkdale, Roncesvalles</td>\n",
       "      <td>43.648960</td>\n",
       "      <td>-79.456325</td>\n",
       "    </tr>\n",
       "  </tbody>\n",
       "</table>\n",
       "</div>"
      ],
      "text/plain": [
       "  Postal Code       Borough                                  Neighborhood  \\\n",
       "0         M6H  West Toronto                  Dufferin, Dovercourt Village   \n",
       "1         M6J  West Toronto                      Little Portugal, Trinity   \n",
       "2         M6K  West Toronto  Brockton, Parkdale Village, Exhibition Place   \n",
       "3         M6P  West Toronto                 High Park, The Junction South   \n",
       "4         M6R  West Toronto                        Parkdale, Roncesvalles   \n",
       "\n",
       "    Latitude  Longitude  \n",
       "0  43.669005 -79.442259  \n",
       "1  43.647927 -79.419750  \n",
       "2  43.636847 -79.428191  \n",
       "3  43.661608 -79.464763  \n",
       "4  43.648960 -79.456325  "
      ]
     },
     "execution_count": 53,
     "metadata": {},
     "output_type": "execute_result"
    }
   ],
   "source": [
    "Toronto_dataframe.head()"
   ]
  },
  {
   "cell_type": "code",
   "execution_count": 54,
   "metadata": {},
   "outputs": [
    {
     "name": "stdout",
     "output_type": "stream",
     "text": [
      "The geograpical coordinate of Toronto are 43.6534817, -79.3839347.\n"
     ]
    }
   ],
   "source": [
    "address = 'Toronto'\n",
    "\n",
    "geolocator = Nominatim(user_agent=\"Toronto_explorer\")\n",
    "location = geolocator.geocode(address)\n",
    "latitude = location.latitude\n",
    "longitude = location.longitude\n",
    "print('The geograpical coordinate of Toronto are {}, {}.'.format(latitude, longitude))"
   ]
  },
  {
   "cell_type": "code",
   "execution_count": 55,
   "metadata": {},
   "outputs": [
    {
     "data": {
      "text/html": [
       "<div style=\"width:100%;\"><div style=\"position:relative;width:100%;height:0;padding-bottom:60%;\"><iframe src=\"about:blank\" style=\"position:absolute;width:100%;height:100%;left:0;top:0;border:none !important;\" data-html=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 onload=\"this.contentDocument.open();this.contentDocument.write(atob(this.getAttribute('data-html')));this.contentDocument.close();\" allowfullscreen webkitallowfullscreen mozallowfullscreen></iframe></div></div>"
      ],
      "text/plain": [
       "<folium.folium.Map at 0x24fe9198b38>"
      ]
     },
     "execution_count": 55,
     "metadata": {},
     "output_type": "execute_result"
    }
   ],
   "source": [
    "map_Toronto = folium.Map(location=[latitude, longitude], zoom_start=10)\n",
    "\n",
    "# add markers to map\n",
    "for lat, lng, borough, neighborhood in zip(Toronto_dataframe['Latitude'], Toronto_dataframe['Longitude'], Toronto_dataframe['Borough'], Toronto_dataframe['Neighborhood']):\n",
    "    label = '{}, {}'.format(neighborhood, borough)\n",
    "    label = folium.Popup(label, parse_html=True)\n",
    "    folium.CircleMarker(\n",
    "        [lat, lng],\n",
    "        radius=5,\n",
    "        popup=label,\n",
    "        color='blue',\n",
    "        fill=True,\n",
    "        fill_color='#3186cc',\n",
    "        fill_opacity=0.7,\n",
    "        parse_html=False).add_to(map_Toronto)  \n",
    "    \n",
    "map_Toronto"
   ]
  },
  {
   "cell_type": "code",
   "execution_count": null,
   "metadata": {},
   "outputs": [],
   "source": []
  }
 ],
 "metadata": {
  "kernelspec": {
   "display_name": "Python 3",
   "language": "python",
   "name": "python3"
  },
  "language_info": {
   "codemirror_mode": {
    "name": "ipython",
    "version": 3
   },
   "file_extension": ".py",
   "mimetype": "text/x-python",
   "name": "python",
   "nbconvert_exporter": "python",
   "pygments_lexer": "ipython3",
   "version": "3.7.0"
  }
 },
 "nbformat": 4,
 "nbformat_minor": 4
}
